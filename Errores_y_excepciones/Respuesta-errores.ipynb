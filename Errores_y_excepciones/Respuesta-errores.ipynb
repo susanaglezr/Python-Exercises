{
 "cells": [
  {
   "cell_type": "code",
   "execution_count": 12,
   "metadata": {},
   "outputs": [],
   "source": [
    "# Ejercicio 1\n",
    "def divisors(n):\n",
    "    \"\"\"\n",
    "    Calcula los divisores de un número entero positivo.\n",
    "    Args:\n",
    "    n: Número entero positivo\n",
    "    Returns:\n",
    "    divisors: Lista de divisores de n\n",
    "    \"\"\"\n",
    "    assert n > 0 and n==int(n), \"n debe ser de tipo int y debe ser mayor que 0\"\n",
    "    divisors = []\n",
    "    for i in range(1, n + 1):\n",
    "        if n % i == 0: divisors.append(i)\n",
    "    return divisors"
   ]
  },
  {
   "cell_type": "code",
   "execution_count": 13,
   "metadata": {},
   "outputs": [
    {
     "ename": "AssertionError",
     "evalue": "n debe ser de tipo int y debe ser mayor que 0",
     "output_type": "error",
     "traceback": [
      "\u001b[1;31m---------------------------------------------------------------------------\u001b[0m",
      "\u001b[1;31mAssertionError\u001b[0m                            Traceback (most recent call last)",
      "\u001b[1;32mc:\\Users\\sg804\\Desktop\\Python-Exercises\\Errores_y_excepciones\\Respuesta-errores.ipynb Celda 2\u001b[0m in \u001b[0;36m<cell line: 1>\u001b[1;34m()\u001b[0m\n\u001b[1;32m----> <a href='vscode-notebook-cell:/c%3A/Users/sg804/Desktop/Python-Exercises/Errores_y_excepciones/Respuesta-errores.ipynb#ch0000001?line=0'>1</a>\u001b[0m divisors(\u001b[39m-\u001b[39;49m\u001b[39m4\u001b[39;49m)\n",
      "\u001b[1;32mc:\\Users\\sg804\\Desktop\\Python-Exercises\\Errores_y_excepciones\\Respuesta-errores.ipynb Celda 2\u001b[0m in \u001b[0;36mdivisors\u001b[1;34m(n)\u001b[0m\n\u001b[0;32m      <a href='vscode-notebook-cell:/c%3A/Users/sg804/Desktop/Python-Exercises/Errores_y_excepciones/Respuesta-errores.ipynb#ch0000001?line=1'>2</a>\u001b[0m \u001b[39mdef\u001b[39;00m \u001b[39mdivisors\u001b[39m(n):\n\u001b[0;32m      <a href='vscode-notebook-cell:/c%3A/Users/sg804/Desktop/Python-Exercises/Errores_y_excepciones/Respuesta-errores.ipynb#ch0000001?line=2'>3</a>\u001b[0m     \u001b[39m\"\"\"\u001b[39;00m\n\u001b[0;32m      <a href='vscode-notebook-cell:/c%3A/Users/sg804/Desktop/Python-Exercises/Errores_y_excepciones/Respuesta-errores.ipynb#ch0000001?line=3'>4</a>\u001b[0m \u001b[39m    Calcula los divisores de un número entero positivo.\u001b[39;00m\n\u001b[0;32m      <a href='vscode-notebook-cell:/c%3A/Users/sg804/Desktop/Python-Exercises/Errores_y_excepciones/Respuesta-errores.ipynb#ch0000001?line=4'>5</a>\u001b[0m \u001b[39m    Args:\u001b[39;00m\n\u001b[1;32m   (...)\u001b[0m\n\u001b[0;32m      <a href='vscode-notebook-cell:/c%3A/Users/sg804/Desktop/Python-Exercises/Errores_y_excepciones/Respuesta-errores.ipynb#ch0000001?line=7'>8</a>\u001b[0m \u001b[39m    divisors: Lista de divisores de n\u001b[39;00m\n\u001b[0;32m      <a href='vscode-notebook-cell:/c%3A/Users/sg804/Desktop/Python-Exercises/Errores_y_excepciones/Respuesta-errores.ipynb#ch0000001?line=8'>9</a>\u001b[0m \u001b[39m    \"\"\"\u001b[39;00m\n\u001b[1;32m---> <a href='vscode-notebook-cell:/c%3A/Users/sg804/Desktop/Python-Exercises/Errores_y_excepciones/Respuesta-errores.ipynb#ch0000001?line=9'>10</a>\u001b[0m     \u001b[39massert\u001b[39;00m n \u001b[39m>\u001b[39m \u001b[39m0\u001b[39m \u001b[39mand\u001b[39;00m n\u001b[39m==\u001b[39m\u001b[39mint\u001b[39m(n), \u001b[39m\"\u001b[39m\u001b[39mn debe ser de tipo int y debe ser mayor que 0\u001b[39m\u001b[39m\"\u001b[39m\n\u001b[0;32m     <a href='vscode-notebook-cell:/c%3A/Users/sg804/Desktop/Python-Exercises/Errores_y_excepciones/Respuesta-errores.ipynb#ch0000001?line=10'>11</a>\u001b[0m     divisors \u001b[39m=\u001b[39m []\n\u001b[0;32m     <a href='vscode-notebook-cell:/c%3A/Users/sg804/Desktop/Python-Exercises/Errores_y_excepciones/Respuesta-errores.ipynb#ch0000001?line=11'>12</a>\u001b[0m     \u001b[39mfor\u001b[39;00m i \u001b[39min\u001b[39;00m \u001b[39mrange\u001b[39m(\u001b[39m1\u001b[39m, n \u001b[39m+\u001b[39m \u001b[39m1\u001b[39m):\n",
      "\u001b[1;31mAssertionError\u001b[0m: n debe ser de tipo int y debe ser mayor que 0"
     ]
    }
   ],
   "source": [
    "divisors(-4)"
   ]
  },
  {
   "cell_type": "code",
   "execution_count": 14,
   "metadata": {},
   "outputs": [],
   "source": [
    "# Ejercicio 2\n",
    "def divisors(n):\n",
    "    \"\"\"\n",
    "    Calcula los divisores de un número entero positivo.\n",
    "    Args:\n",
    "    n: Número entero positivo\n",
    "    Returns:\n",
    "    divisors: Lista de divisores de n\n",
    "    \"\"\"\n",
    "    if n > 0:\n",
    "        if n == int(n):\n",
    "            divisors = []\n",
    "            for i in range(1, n + 1):\n",
    "                if n % i == 0: divisors.append(i)\n",
    "            return divisors\n",
    "        else:\n",
    "            raise TypeError(\"n no es un número entero\")\n",
    "    else:\n",
    "        raise ValueError(\"n no es un número positivo\")"
   ]
  },
  {
   "cell_type": "code",
   "execution_count": 142,
   "metadata": {},
   "outputs": [
    {
     "ename": "TypeError",
     "evalue": "n no es un número entero",
     "output_type": "error",
     "traceback": [
      "\u001b[1;31m---------------------------------------------------------------------------\u001b[0m",
      "\u001b[1;31mTypeError\u001b[0m                                 Traceback (most recent call last)",
      "\u001b[1;32mc:\\Users\\sg804\\Desktop\\Python-Exercises\\Errores_y_excepciones\\Respuesta-errores.ipynb Celda 4\u001b[0m in \u001b[0;36m<cell line: 1>\u001b[1;34m()\u001b[0m\n\u001b[1;32m----> <a href='vscode-notebook-cell:/c%3A/Users/sg804/Desktop/Python-Exercises/Errores_y_excepciones/Respuesta-errores.ipynb#ch0000003?line=0'>1</a>\u001b[0m divisors(\u001b[39m1.2\u001b[39;49m)\n",
      "\u001b[1;32mc:\\Users\\sg804\\Desktop\\Python-Exercises\\Errores_y_excepciones\\Respuesta-errores.ipynb Celda 4\u001b[0m in \u001b[0;36mdivisors\u001b[1;34m(n)\u001b[0m\n\u001b[0;32m     <a href='vscode-notebook-cell:/c%3A/Users/sg804/Desktop/Python-Exercises/Errores_y_excepciones/Respuesta-errores.ipynb#ch0000003?line=14'>15</a>\u001b[0m         \u001b[39mreturn\u001b[39;00m divisors\n\u001b[0;32m     <a href='vscode-notebook-cell:/c%3A/Users/sg804/Desktop/Python-Exercises/Errores_y_excepciones/Respuesta-errores.ipynb#ch0000003?line=15'>16</a>\u001b[0m     \u001b[39melse\u001b[39;00m:\n\u001b[1;32m---> <a href='vscode-notebook-cell:/c%3A/Users/sg804/Desktop/Python-Exercises/Errores_y_excepciones/Respuesta-errores.ipynb#ch0000003?line=16'>17</a>\u001b[0m         \u001b[39mraise\u001b[39;00m \u001b[39mTypeError\u001b[39;00m(\u001b[39m\"\u001b[39m\u001b[39mn no es un número entero\u001b[39m\u001b[39m\"\u001b[39m)\n\u001b[0;32m     <a href='vscode-notebook-cell:/c%3A/Users/sg804/Desktop/Python-Exercises/Errores_y_excepciones/Respuesta-errores.ipynb#ch0000003?line=17'>18</a>\u001b[0m \u001b[39melse\u001b[39;00m:\n\u001b[0;32m     <a href='vscode-notebook-cell:/c%3A/Users/sg804/Desktop/Python-Exercises/Errores_y_excepciones/Respuesta-errores.ipynb#ch0000003?line=18'>19</a>\u001b[0m     \u001b[39mraise\u001b[39;00m \u001b[39mValueError\u001b[39;00m(\u001b[39m\"\u001b[39m\u001b[39mn no es un número positivo\u001b[39m\u001b[39m\"\u001b[39m)\n",
      "\u001b[1;31mTypeError\u001b[0m: n no es un número entero"
     ]
    }
   ],
   "source": [
    "divisors(1.2)"
   ]
  },
  {
   "cell_type": "code",
   "execution_count": 16,
   "metadata": {},
   "outputs": [],
   "source": [
    "# Ejercicio 3\n",
    "def is_palindrome(word):\n",
    "    \"\"\"\n",
    "    Devuelve si la palabra word es palíndroma.\n",
    "    Args:\n",
    "    word: Palabra\n",
    "    Returns:\n",
    "    isPalindrome: Booleano\n",
    "    \"\"\"\n",
    "    assert word == str(word), \"word debe ser de tipo string\"\n",
    "    word = word.lower()\n",
    "    l = []\n",
    "    isPalindrome = True\n",
    "    for c in word:\n",
    "        l.append(c)\n",
    "    n = len(l)\n",
    "    for i in range(int(n / 2)):\n",
    "        if l[i] != l[n - (i + 1)]: isPalindrome = False\n",
    "    return isPalindrome"
   ]
  },
  {
   "cell_type": "code",
   "execution_count": 17,
   "metadata": {},
   "outputs": [
    {
     "ename": "AssertionError",
     "evalue": "word debe ser de tipo string",
     "output_type": "error",
     "traceback": [
      "\u001b[1;31m---------------------------------------------------------------------------\u001b[0m",
      "\u001b[1;31mAssertionError\u001b[0m                            Traceback (most recent call last)",
      "\u001b[1;32mc:\\Users\\sg804\\Desktop\\Python-Exercises\\Errores_y_excepciones\\Respuesta-errores.ipynb Celda 6\u001b[0m in \u001b[0;36m<cell line: 1>\u001b[1;34m()\u001b[0m\n\u001b[1;32m----> <a href='vscode-notebook-cell:/c%3A/Users/sg804/Desktop/Python-Exercises/Errores_y_excepciones/Respuesta-errores.ipynb#ch0000005?line=0'>1</a>\u001b[0m is_palindrome(\u001b[39m2\u001b[39;49m)\n",
      "\u001b[1;32mc:\\Users\\sg804\\Desktop\\Python-Exercises\\Errores_y_excepciones\\Respuesta-errores.ipynb Celda 6\u001b[0m in \u001b[0;36mis_palindrome\u001b[1;34m(word)\u001b[0m\n\u001b[0;32m      <a href='vscode-notebook-cell:/c%3A/Users/sg804/Desktop/Python-Exercises/Errores_y_excepciones/Respuesta-errores.ipynb#ch0000005?line=1'>2</a>\u001b[0m \u001b[39mdef\u001b[39;00m \u001b[39mis_palindrome\u001b[39m(word):\n\u001b[0;32m      <a href='vscode-notebook-cell:/c%3A/Users/sg804/Desktop/Python-Exercises/Errores_y_excepciones/Respuesta-errores.ipynb#ch0000005?line=2'>3</a>\u001b[0m     \u001b[39m\"\"\"\u001b[39;00m\n\u001b[0;32m      <a href='vscode-notebook-cell:/c%3A/Users/sg804/Desktop/Python-Exercises/Errores_y_excepciones/Respuesta-errores.ipynb#ch0000005?line=3'>4</a>\u001b[0m \u001b[39m    Devuelve si la palabra word es palíndroma.\u001b[39;00m\n\u001b[0;32m      <a href='vscode-notebook-cell:/c%3A/Users/sg804/Desktop/Python-Exercises/Errores_y_excepciones/Respuesta-errores.ipynb#ch0000005?line=4'>5</a>\u001b[0m \u001b[39m    Args:\u001b[39;00m\n\u001b[1;32m   (...)\u001b[0m\n\u001b[0;32m      <a href='vscode-notebook-cell:/c%3A/Users/sg804/Desktop/Python-Exercises/Errores_y_excepciones/Respuesta-errores.ipynb#ch0000005?line=7'>8</a>\u001b[0m \u001b[39m    isPalindrome: Booleano\u001b[39;00m\n\u001b[0;32m      <a href='vscode-notebook-cell:/c%3A/Users/sg804/Desktop/Python-Exercises/Errores_y_excepciones/Respuesta-errores.ipynb#ch0000005?line=8'>9</a>\u001b[0m \u001b[39m    \"\"\"\u001b[39;00m\n\u001b[1;32m---> <a href='vscode-notebook-cell:/c%3A/Users/sg804/Desktop/Python-Exercises/Errores_y_excepciones/Respuesta-errores.ipynb#ch0000005?line=9'>10</a>\u001b[0m     \u001b[39massert\u001b[39;00m word \u001b[39m==\u001b[39m \u001b[39mstr\u001b[39m(word), \u001b[39m\"\u001b[39m\u001b[39mword debe ser de tipo string\u001b[39m\u001b[39m\"\u001b[39m\n\u001b[0;32m     <a href='vscode-notebook-cell:/c%3A/Users/sg804/Desktop/Python-Exercises/Errores_y_excepciones/Respuesta-errores.ipynb#ch0000005?line=10'>11</a>\u001b[0m     word \u001b[39m=\u001b[39m word\u001b[39m.\u001b[39mlower()\n\u001b[0;32m     <a href='vscode-notebook-cell:/c%3A/Users/sg804/Desktop/Python-Exercises/Errores_y_excepciones/Respuesta-errores.ipynb#ch0000005?line=11'>12</a>\u001b[0m     l \u001b[39m=\u001b[39m []\n",
      "\u001b[1;31mAssertionError\u001b[0m: word debe ser de tipo string"
     ]
    }
   ],
   "source": [
    "is_palindrome(2)"
   ]
  },
  {
   "cell_type": "code",
   "execution_count": 20,
   "metadata": {},
   "outputs": [],
   "source": [
    "# Ejercicio 4\n",
    "def is_palindrome(word):\n",
    "    \"\"\"\n",
    "    Devuelve si la palabra word es palíndroma.\n",
    "    Args:\n",
    "    word: Palabra\n",
    "    Returns:\n",
    "    isPalindrome: Booleano\n",
    "    \"\"\"\n",
    "    if word == str(word):\n",
    "        word = word.lower()\n",
    "        l = []\n",
    "        isPalindrome = True\n",
    "        for c in word:\n",
    "            l.append(c)\n",
    "        n = len(l)\n",
    "        for i in range(int(n / 2)):\n",
    "            if l[i] != l[n - (i + 1)]: isPalindrome = False\n",
    "        return isPalindrome\n",
    "    else:\n",
    "        raise TypeError(\"word debe ser una variable tipo string\")"
   ]
  },
  {
   "cell_type": "code",
   "execution_count": 21,
   "metadata": {},
   "outputs": [
    {
     "ename": "TypeError",
     "evalue": "word debe ser una variable tipo string",
     "output_type": "error",
     "traceback": [
      "\u001b[1;31m---------------------------------------------------------------------------\u001b[0m",
      "\u001b[1;31mTypeError\u001b[0m                                 Traceback (most recent call last)",
      "\u001b[1;32mc:\\Users\\sg804\\Desktop\\Python-Exercises\\Errores_y_excepciones\\Respuesta-errores.ipynb Celda 8\u001b[0m in \u001b[0;36m<cell line: 1>\u001b[1;34m()\u001b[0m\n\u001b[1;32m----> <a href='vscode-notebook-cell:/c%3A/Users/sg804/Desktop/Python-Exercises/Errores_y_excepciones/Respuesta-errores.ipynb#ch0000007?line=0'>1</a>\u001b[0m is_palindrome(\u001b[39m2\u001b[39;49m)\n",
      "\u001b[1;32mc:\\Users\\sg804\\Desktop\\Python-Exercises\\Errores_y_excepciones\\Respuesta-errores.ipynb Celda 8\u001b[0m in \u001b[0;36mis_palindrome\u001b[1;34m(word)\u001b[0m\n\u001b[0;32m     <a href='vscode-notebook-cell:/c%3A/Users/sg804/Desktop/Python-Exercises/Errores_y_excepciones/Respuesta-errores.ipynb#ch0000007?line=18'>19</a>\u001b[0m     \u001b[39mreturn\u001b[39;00m isPalindrome\n\u001b[0;32m     <a href='vscode-notebook-cell:/c%3A/Users/sg804/Desktop/Python-Exercises/Errores_y_excepciones/Respuesta-errores.ipynb#ch0000007?line=19'>20</a>\u001b[0m \u001b[39melse\u001b[39;00m:\n\u001b[1;32m---> <a href='vscode-notebook-cell:/c%3A/Users/sg804/Desktop/Python-Exercises/Errores_y_excepciones/Respuesta-errores.ipynb#ch0000007?line=20'>21</a>\u001b[0m     \u001b[39mraise\u001b[39;00m \u001b[39mTypeError\u001b[39;00m(\u001b[39m\"\u001b[39m\u001b[39mword debe ser una variable tipo string\u001b[39m\u001b[39m\"\u001b[39m)\n",
      "\u001b[1;31mTypeError\u001b[0m: word debe ser una variable tipo string"
     ]
    }
   ],
   "source": [
    "is_palindrome(2)"
   ]
  },
  {
   "cell_type": "code",
   "execution_count": 143,
   "metadata": {},
   "outputs": [],
   "source": [
    "# Ejercicio 5\n",
    "def is_palindrome(word):\n",
    "    \"\"\"\n",
    "    Devuelve si la palabra word es palíndroma.\n",
    "    Args:\n",
    "    word: Palabra\n",
    "    Returns:\n",
    "    isPalindrome: Booleano\n",
    "    \"\"\"\n",
    "    if word == str(word):\n",
    "        count = 0\n",
    "        for letter in word:\n",
    "            if letter == \" \":\n",
    "                count+=1\n",
    "        if count == 0:\n",
    "            word = word.lower()\n",
    "            l = []\n",
    "            isPalindrome = True\n",
    "            for c in word:\n",
    "                l.append(c)\n",
    "            n = len(l)\n",
    "            for i in range(int(n / 2)):\n",
    "                if l[i] != l[n - (i + 1)]: isPalindrome = False\n",
    "            return isPalindrome\n",
    "        else:\n",
    "            raise ValueError(\"word no es una palabra\")\n",
    "    else:\n",
    "        raise TypeError(\"word no es una variable tipo string\")"
   ]
  },
  {
   "cell_type": "code",
   "execution_count": 26,
   "metadata": {},
   "outputs": [
    {
     "ename": "ValueError",
     "evalue": "word no es una palabra",
     "output_type": "error",
     "traceback": [
      "\u001b[1;31m---------------------------------------------------------------------------\u001b[0m",
      "\u001b[1;31mValueError\u001b[0m                                Traceback (most recent call last)",
      "\u001b[1;32mc:\\Users\\sg804\\Desktop\\Python-Exercises\\Errores_y_excepciones\\Respuesta-errores.ipynb Celda 10\u001b[0m in \u001b[0;36m<cell line: 1>\u001b[1;34m()\u001b[0m\n\u001b[1;32m----> <a href='vscode-notebook-cell:/c%3A/Users/sg804/Desktop/Python-Exercises/Errores_y_excepciones/Respuesta-errores.ipynb#ch0000009?line=0'>1</a>\u001b[0m is_palindrome(\u001b[39m\"\u001b[39;49m\u001b[39mhola que tal\u001b[39;49m\u001b[39m\"\u001b[39;49m)\n",
      "\u001b[1;32mc:\\Users\\sg804\\Desktop\\Python-Exercises\\Errores_y_excepciones\\Respuesta-errores.ipynb Celda 10\u001b[0m in \u001b[0;36mis_palindrome\u001b[1;34m(word)\u001b[0m\n\u001b[0;32m     <a href='vscode-notebook-cell:/c%3A/Users/sg804/Desktop/Python-Exercises/Errores_y_excepciones/Respuesta-errores.ipynb#ch0000009?line=23'>24</a>\u001b[0m         \u001b[39mreturn\u001b[39;00m isPalindrome\n\u001b[0;32m     <a href='vscode-notebook-cell:/c%3A/Users/sg804/Desktop/Python-Exercises/Errores_y_excepciones/Respuesta-errores.ipynb#ch0000009?line=24'>25</a>\u001b[0m     \u001b[39melse\u001b[39;00m:\n\u001b[1;32m---> <a href='vscode-notebook-cell:/c%3A/Users/sg804/Desktop/Python-Exercises/Errores_y_excepciones/Respuesta-errores.ipynb#ch0000009?line=25'>26</a>\u001b[0m         \u001b[39mraise\u001b[39;00m \u001b[39mValueError\u001b[39;00m(\u001b[39m\"\u001b[39m\u001b[39mword no es una palabra\u001b[39m\u001b[39m\"\u001b[39m)\n\u001b[0;32m     <a href='vscode-notebook-cell:/c%3A/Users/sg804/Desktop/Python-Exercises/Errores_y_excepciones/Respuesta-errores.ipynb#ch0000009?line=26'>27</a>\u001b[0m \u001b[39melse\u001b[39;00m:\n\u001b[0;32m     <a href='vscode-notebook-cell:/c%3A/Users/sg804/Desktop/Python-Exercises/Errores_y_excepciones/Respuesta-errores.ipynb#ch0000009?line=27'>28</a>\u001b[0m     \u001b[39mraise\u001b[39;00m \u001b[39mTypeError\u001b[39;00m(\u001b[39m\"\u001b[39m\u001b[39mword no es una variable tipo string\u001b[39m\u001b[39m\"\u001b[39m)\n",
      "\u001b[1;31mValueError\u001b[0m: word no es una palabra"
     ]
    }
   ],
   "source": [
    "is_palindrome(\"hola que tal\")"
   ]
  },
  {
   "cell_type": "code",
   "execution_count": 31,
   "metadata": {},
   "outputs": [],
   "source": [
    "# Ejercicio 6\n",
    "def is_palindrome(word):\n",
    "    \"\"\"\n",
    "    Devuelve si la frase o palabra word es palíndroma.\n",
    "    Args:\n",
    "    word: Palabra\n",
    "    Returns:\n",
    "    isPalindrome: Booleano\n",
    "    \"\"\"\n",
    "\n",
    "    if word == str(word):\n",
    "        word = word.split()\n",
    "        word = \"\".join(word)\n",
    "        word = word.lower()\n",
    "        l = []\n",
    "        isPalindrome = True\n",
    "        for c in word:\n",
    "            l.append(c)\n",
    "        n = len(l)\n",
    "        for i in range(int(n / 2)):\n",
    "            if l[i] != l[n - (i + 1)]: isPalindrome = False\n",
    "        return isPalindrome\n",
    "    else:\n",
    "        raise TypeError(\"word no es una variable tipo string\")"
   ]
  },
  {
   "cell_type": "code",
   "execution_count": 35,
   "metadata": {},
   "outputs": [
    {
     "data": {
      "text/plain": [
       "True"
      ]
     },
     "execution_count": 35,
     "metadata": {},
     "output_type": "execute_result"
    }
   ],
   "source": [
    "is_palindrome(\"luz azul\")"
   ]
  },
  {
   "cell_type": "code",
   "execution_count": 83,
   "metadata": {},
   "outputs": [
    {
     "name": "stdout",
     "output_type": "stream",
     "text": [
      "El objeto <class 'set'> no tiene el método.index()\n"
     ]
    }
   ],
   "source": [
    "# Ejercicio 7\n",
    "x = {\"a\",\"b\",\"c\"}\n",
    "try:\n",
    "    result = x.index(\"c\")\n",
    "except ValueError:\n",
    "    result = \"La lista no tiene el elemento 'c'\"\n",
    "except:\n",
    "    result = \"El objeto {} no tiene el método.index()\".format(type(x))\n",
    "finally:\n",
    "    print(result)\n"
   ]
  },
  {
   "cell_type": "code",
   "execution_count": null,
   "metadata": {},
   "outputs": [],
   "source": [
    "# Ejercicio 8\n",
    "def area(lado):\n",
    "    if lado >= 0:\n",
    "        if lado == int(lado):\n",
    "            return lado**2\n",
    "        else:\n",
    "            raise TypeError(\"n no es un número entero\")\n",
    "    else:\n",
    "        raise ValueError(\"n no es un número positivo\")"
   ]
  },
  {
   "cell_type": "code",
   "execution_count": null,
   "metadata": {},
   "outputs": [
    {
     "ename": "TypeError",
     "evalue": "n no es un número entero",
     "output_type": "error",
     "traceback": [
      "\u001b[1;31m---------------------------------------------------------------------------\u001b[0m",
      "\u001b[1;31mTypeError\u001b[0m                                 Traceback (most recent call last)",
      "\u001b[1;32mc:\\Users\\sg804\\Desktop\\Python-Exercises\\Errores_y_excepciones\\Respuesta-errores.ipynb Celda 12\u001b[0m in \u001b[0;36m<cell line: 1>\u001b[1;34m()\u001b[0m\n\u001b[1;32m----> <a href='vscode-notebook-cell:/c%3A/Users/sg804/Desktop/Python-Exercises/Errores_y_excepciones/Respuesta-errores.ipynb#ch0000012?line=0'>1</a>\u001b[0m area(\u001b[39m1.2\u001b[39;49m)\n",
      "\u001b[1;32mc:\\Users\\sg804\\Desktop\\Python-Exercises\\Errores_y_excepciones\\Respuesta-errores.ipynb Celda 12\u001b[0m in \u001b[0;36marea\u001b[1;34m(lado)\u001b[0m\n\u001b[0;32m      <a href='vscode-notebook-cell:/c%3A/Users/sg804/Desktop/Python-Exercises/Errores_y_excepciones/Respuesta-errores.ipynb#ch0000012?line=4'>5</a>\u001b[0m         \u001b[39mreturn\u001b[39;00m lado\u001b[39m*\u001b[39m\u001b[39m*\u001b[39m\u001b[39m2\u001b[39m\n\u001b[0;32m      <a href='vscode-notebook-cell:/c%3A/Users/sg804/Desktop/Python-Exercises/Errores_y_excepciones/Respuesta-errores.ipynb#ch0000012?line=5'>6</a>\u001b[0m     \u001b[39melse\u001b[39;00m:\n\u001b[1;32m----> <a href='vscode-notebook-cell:/c%3A/Users/sg804/Desktop/Python-Exercises/Errores_y_excepciones/Respuesta-errores.ipynb#ch0000012?line=6'>7</a>\u001b[0m         \u001b[39mraise\u001b[39;00m \u001b[39mTypeError\u001b[39;00m(\u001b[39m\"\u001b[39m\u001b[39mn no es un número entero\u001b[39m\u001b[39m\"\u001b[39m)\n\u001b[0;32m      <a href='vscode-notebook-cell:/c%3A/Users/sg804/Desktop/Python-Exercises/Errores_y_excepciones/Respuesta-errores.ipynb#ch0000012?line=7'>8</a>\u001b[0m \u001b[39melse\u001b[39;00m:\n\u001b[0;32m      <a href='vscode-notebook-cell:/c%3A/Users/sg804/Desktop/Python-Exercises/Errores_y_excepciones/Respuesta-errores.ipynb#ch0000012?line=8'>9</a>\u001b[0m     \u001b[39mraise\u001b[39;00m \u001b[39mValueError\u001b[39;00m(\u001b[39m\"\u001b[39m\u001b[39mn no es un número positivo\u001b[39m\u001b[39m\"\u001b[39m)\n",
      "\u001b[1;31mTypeError\u001b[0m: n no es un número entero"
     ]
    }
   ],
   "source": [
    "area(1.2)"
   ]
  },
  {
   "cell_type": "code",
   "execution_count": null,
   "metadata": {},
   "outputs": [],
   "source": [
    "# Ejercicio 9\n",
    "def edad():\n",
    "    n = int(input(\"Ingrese su edad: \"))\n",
    "    if n > 0:\n",
    "        if n < 150:\n",
    "            return \"Usted tiene {} años\".format(n)\n",
    "        else:\n",
    "            raise ValueError(\"la edad no puede ser mayor a 150\")\n",
    "    else:\n",
    "            raise ValueError(\"la edad no puede ser un número negativo\")"
   ]
  },
  {
   "cell_type": "code",
   "execution_count": null,
   "metadata": {},
   "outputs": [
    {
     "ename": "ValueError",
     "evalue": "la edad no puede ser un número negativo",
     "output_type": "error",
     "traceback": [
      "\u001b[1;31m---------------------------------------------------------------------------\u001b[0m",
      "\u001b[1;31mValueError\u001b[0m                                Traceback (most recent call last)",
      "\u001b[1;32mc:\\Users\\sg804\\Desktop\\Python-Exercises\\Errores_y_excepciones\\Respuesta-errores.ipynb Celda 14\u001b[0m in \u001b[0;36m<cell line: 1>\u001b[1;34m()\u001b[0m\n\u001b[1;32m----> <a href='vscode-notebook-cell:/c%3A/Users/sg804/Desktop/Python-Exercises/Errores_y_excepciones/Respuesta-errores.ipynb#ch0000015?line=0'>1</a>\u001b[0m edad()\n",
      "\u001b[1;32mc:\\Users\\sg804\\Desktop\\Python-Exercises\\Errores_y_excepciones\\Respuesta-errores.ipynb Celda 14\u001b[0m in \u001b[0;36medad\u001b[1;34m()\u001b[0m\n\u001b[0;32m      <a href='vscode-notebook-cell:/c%3A/Users/sg804/Desktop/Python-Exercises/Errores_y_excepciones/Respuesta-errores.ipynb#ch0000015?line=7'>8</a>\u001b[0m         \u001b[39mraise\u001b[39;00m \u001b[39mValueError\u001b[39;00m(\u001b[39m\"\u001b[39m\u001b[39mla edad no puede ser mayor a 150\u001b[39m\u001b[39m\"\u001b[39m)\n\u001b[0;32m      <a href='vscode-notebook-cell:/c%3A/Users/sg804/Desktop/Python-Exercises/Errores_y_excepciones/Respuesta-errores.ipynb#ch0000015?line=8'>9</a>\u001b[0m \u001b[39melse\u001b[39;00m:\n\u001b[1;32m---> <a href='vscode-notebook-cell:/c%3A/Users/sg804/Desktop/Python-Exercises/Errores_y_excepciones/Respuesta-errores.ipynb#ch0000015?line=9'>10</a>\u001b[0m         \u001b[39mraise\u001b[39;00m \u001b[39mValueError\u001b[39;00m(\u001b[39m\"\u001b[39m\u001b[39mla edad no puede ser un número negativo\u001b[39m\u001b[39m\"\u001b[39m)\n",
      "\u001b[1;31mValueError\u001b[0m: la edad no puede ser un número negativo"
     ]
    }
   ],
   "source": [
    "edad()"
   ]
  },
  {
   "cell_type": "code",
   "execution_count": 136,
   "metadata": {},
   "outputs": [],
   "source": [
    "# Ejercicio 10\n",
    "def letterM():\n",
    "    n = ['0','1','2','3','4','5','6','7','8','9']\n",
    "    letter = input(\"Ingrese una letra mayúscula: \")\n",
    "    if letter != \"\":\n",
    "        if letter not in n:\n",
    "            if len(letter)>1:\n",
    "                raise Exception(\"Ha introducido mas de un caracter\")\n",
    "            elif letter != letter.upper():\n",
    "                raise Exception(\"No ha intoducido una letra mayúscula\")\n",
    "        else:\n",
    "            raise Exception(\"No ha intoducido una letra\")\n",
    "    else:\n",
    "        raise Exception(\"No ha intoducido nada\")\n"
   ]
  },
  {
   "cell_type": "code",
   "execution_count": 141,
   "metadata": {},
   "outputs": [
    {
     "ename": "Exception",
     "evalue": "No ha intoducido una letra",
     "output_type": "error",
     "traceback": [
      "\u001b[1;31m---------------------------------------------------------------------------\u001b[0m",
      "\u001b[1;31mException\u001b[0m                                 Traceback (most recent call last)",
      "\u001b[1;32mc:\\Users\\sg804\\Desktop\\Python-Exercises\\Errores_y_excepciones\\Respuesta-errores.ipynb Celda 19\u001b[0m in \u001b[0;36m<cell line: 1>\u001b[1;34m()\u001b[0m\n\u001b[1;32m----> <a href='vscode-notebook-cell:/c%3A/Users/sg804/Desktop/Python-Exercises/Errores_y_excepciones/Respuesta-errores.ipynb#ch0000026?line=0'>1</a>\u001b[0m letterM()\n",
      "\u001b[1;32mc:\\Users\\sg804\\Desktop\\Python-Exercises\\Errores_y_excepciones\\Respuesta-errores.ipynb Celda 19\u001b[0m in \u001b[0;36mletterM\u001b[1;34m()\u001b[0m\n\u001b[0;32m     <a href='vscode-notebook-cell:/c%3A/Users/sg804/Desktop/Python-Exercises/Errores_y_excepciones/Respuesta-errores.ipynb#ch0000026?line=9'>10</a>\u001b[0m             \u001b[39mraise\u001b[39;00m \u001b[39mException\u001b[39;00m(\u001b[39m\"\u001b[39m\u001b[39mNo ha intoducido una letra mayúscula\u001b[39m\u001b[39m\"\u001b[39m)\n\u001b[0;32m     <a href='vscode-notebook-cell:/c%3A/Users/sg804/Desktop/Python-Exercises/Errores_y_excepciones/Respuesta-errores.ipynb#ch0000026?line=10'>11</a>\u001b[0m     \u001b[39melse\u001b[39;00m:\n\u001b[1;32m---> <a href='vscode-notebook-cell:/c%3A/Users/sg804/Desktop/Python-Exercises/Errores_y_excepciones/Respuesta-errores.ipynb#ch0000026?line=11'>12</a>\u001b[0m         \u001b[39mraise\u001b[39;00m \u001b[39mException\u001b[39;00m(\u001b[39m\"\u001b[39m\u001b[39mNo ha intoducido una letra\u001b[39m\u001b[39m\"\u001b[39m)\n\u001b[0;32m     <a href='vscode-notebook-cell:/c%3A/Users/sg804/Desktop/Python-Exercises/Errores_y_excepciones/Respuesta-errores.ipynb#ch0000026?line=12'>13</a>\u001b[0m \u001b[39melse\u001b[39;00m:\n\u001b[0;32m     <a href='vscode-notebook-cell:/c%3A/Users/sg804/Desktop/Python-Exercises/Errores_y_excepciones/Respuesta-errores.ipynb#ch0000026?line=13'>14</a>\u001b[0m     \u001b[39mraise\u001b[39;00m \u001b[39mException\u001b[39;00m(\u001b[39m\"\u001b[39m\u001b[39mNo ha intoducido nada\u001b[39m\u001b[39m\"\u001b[39m)\n",
      "\u001b[1;31mException\u001b[0m: No ha intoducido una letra"
     ]
    }
   ],
   "source": [
    "letterM()"
   ]
  }
 ],
 "metadata": {
  "kernelspec": {
   "display_name": "Python 3.10.5 64-bit",
   "language": "python",
   "name": "python3"
  },
  "language_info": {
   "codemirror_mode": {
    "name": "ipython",
    "version": 3
   },
   "file_extension": ".py",
   "mimetype": "text/x-python",
   "name": "python",
   "nbconvert_exporter": "python",
   "pygments_lexer": "ipython3",
   "version": "3.10.5"
  },
  "orig_nbformat": 4,
  "vscode": {
   "interpreter": {
    "hash": "742d4daa47b8a373f28c40cea1cb99deeb66111110cf50625028c85b8c3857f7"
   }
  }
 },
 "nbformat": 4,
 "nbformat_minor": 2
}

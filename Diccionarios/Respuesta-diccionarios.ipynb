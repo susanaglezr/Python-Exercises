{
  "cells": [
    {
      "cell_type": "code",
      "execution_count": null,
      "metadata": {
        "colab": {
          "base_uri": "https://localhost:8080/"
        },
        "id": "N6YqlZoNbQYA",
        "outputId": "bd2dd48e-d1a3-4273-9e9a-c72442bc9090"
      },
      "outputs": [
        {
          "name": "stdout",
          "output_type": "stream",
          "text": [
            "Ingrese un número entero positivo: 6\n",
            "{1: 1, 2: 8, 3: 27, 4: 64, 5: 125, 6: 216}\n"
          ]
        }
      ],
      "source": [
        "#Ejercicio 1\n",
        "num = int(input(\"Ingrese un número entero positivo: \"))\n",
        "dicc = {}\n",
        "for i in range(1,num+1):\n",
        "    dicc.setdefault(i, i**3)\n",
        "print(dicc)\n"
      ]
    },
    {
      "cell_type": "code",
      "execution_count": null,
      "metadata": {
        "colab": {
          "base_uri": "https://localhost:8080/"
        },
        "id": "BmRg5JV2eLe-",
        "outputId": "f1e49eff-40c8-456e-ccf6-fd558c6e3938"
      },
      "outputs": [
        {
          "name": "stdout",
          "output_type": "stream",
          "text": [
            "Ingresa tu nombre: \n",
            "Susana\n",
            "Ingresa tu edad: \n",
            "20\n",
            "Ingresa tu teléfono: \n",
            "8181818181\n",
            "\n",
            "Susana tiene 20 años y su número de teléfono es 8181818181\n"
          ]
        }
      ],
      "source": [
        "#Ejercicio 2\n",
        "dicc = {}\n",
        "print(\"Ingresa tu nombre: \")\n",
        "dicc[\"name\"] = str(input())\n",
        "print(\"Ingresa tu edad: \")\n",
        "dicc[\"age\"] = int(input())\n",
        "print(\"Ingresa tu teléfono: \")\n",
        "dicc[\"number\"] = int(input())\n",
        "\n",
        "print(\"\\n{} tiene {} años y su número de teléfono es {}\".format(dicc.get(\"name\"), dicc.get(\"age\"), dicc.get(\"number\")))"
      ]
    },
    {
      "cell_type": "code",
      "execution_count": null,
      "metadata": {
        "colab": {
          "base_uri": "https://localhost:8080/"
        },
        "id": "9D-iKAaweRMM",
        "outputId": "7e4f4636-8a45-40a2-8c15-43cc78de2f0e"
      },
      "outputs": [
        {
          "name": "stdout",
          "output_type": "stream",
          "text": [
            "Ingresa el nombre del artículo: \n",
            "café\n",
            "Ingresa el precio del artículo: \n",
            "50\n",
            "Ingresa el nombre del artículo: \n",
            "leche\n",
            "Ingresa el precio del artículo: \n",
            "22\n",
            "Ingresa el nombre del artículo: \n",
            "uva\n",
            "Ingresa el precio del artículo: \n",
            "2\n",
            "Ingresa el nombre del artículo: \n",
            "sopa\n",
            "Ingresa el precio del artículo: \n",
            "7\n",
            "Ingresa el nombre del artículo: \n",
            "\n",
            "Café             50.0\n",
            "Leche            22.0\n",
            "Uva              2.0\n",
            "Sopa             7.0\n",
            "Total            81.0\n"
          ]
        }
      ],
      "source": [
        "#Ejercicio 3\n",
        "compra = {}\n",
        "print(\"Ingresa el nombre del artículo: \")\n",
        "A = str(input())\n",
        "print(\"Ingresa el precio del artículo: \")\n",
        "B = float(input())\n",
        "sum = B\n",
        "while (A != \"\"):\n",
        "    compra.setdefault(A, B)\n",
        "    print(\"Ingresa el nombre del artículo: \")\n",
        "    A = str(input())\n",
        "    if (A == \"\"):\n",
        "            break\n",
        "    else:\n",
        "        print(\"Ingresa el precio del artículo: \")\n",
        "        B = float(input())\n",
        "        sum += B \n",
        "\n",
        "for key, value in compra.items():\n",
        "    print(key.capitalize(), \" \"*(15-len(key)), value)\n",
        "print(\"Total\", \" \"*(15-len(\"Total\")), sum)"
      ]
    },
    {
      "cell_type": "code",
      "execution_count": null,
      "metadata": {
        "colab": {
          "base_uri": "https://localhost:8080/"
        },
        "id": "Vkf1x2tIu-th",
        "outputId": "f7690196-e980-4ea0-e819-f33a0b7116e2"
      },
      "outputs": [
        {
          "name": "stdout",
          "output_type": "stream",
          "text": [
            "Introduce un número entero, puede ser positivo o negativo: 7\n",
            "Introduce un número entero, puede ser positivo o negativo: 9\n",
            "Introduce un número entero, puede ser positivo o negativo: -2\n",
            "Introduce un número entero, puede ser positivo o negativo: -4\n",
            "Introduce un número entero, puede ser positivo o negativo: 9\n",
            "Introduce un número entero, puede ser positivo o negativo: 4\n",
            "Introduce un número entero, puede ser positivo o negativo: -8\n",
            "Introduce un número entero, puede ser positivo o negativo: 0\n",
            "\n",
            "El diccionario es el siguiente\n",
            "{'Positivos': 4, 'Negativos': 3}\n"
          ]
        }
      ],
      "source": [
        "#Ejercicio 4\n",
        "dicc = {}\n",
        "dicc2 = {}\n",
        "sum_1 = 0\n",
        "sum_2 = 0\n",
        "dicc.setdefault(\"Positivos\", sum_1)\n",
        "dicc.setdefault(\"Negativos\", sum_2)\n",
        "num = int(input(\"Introduce un número entero, puede ser positivo o negativo: \"))\n",
        "while num != 0:\n",
        "    if num > 0 :\n",
        "        sum_1 += 1\n",
        "        dicc.pop(\"Positivos\")\n",
        "        dicc.setdefault(\"Positivos\", sum_1)\n",
        "    else:\n",
        "        sum_2 += 1\n",
        "        dicc.pop(\"Negativos\")\n",
        "        dicc.setdefault(\"Negativos\", sum_2)\n",
        "    num = int(input(\"Introduce un número entero, puede ser positivo o negativo: \"))\n",
        "print(\"\\nEl diccionario es el siguiente\")\n",
        "print(dicc)"
      ]
    },
    {
      "cell_type": "code",
      "execution_count": null,
      "metadata": {
        "colab": {
          "base_uri": "https://localhost:8080/"
        },
        "id": "KKeTsLgFABAz",
        "outputId": "8c3d7576-3d76-43a4-f012-d0af7c20c03a"
      },
      "outputs": [
        {
          "name": "stdout",
          "output_type": "stream",
          "text": [
            "Introduce un número entero: 8\n",
            "Introduce un número entero: 3\n",
            "Introduce un número entero: 6\n",
            "Introduce un número entero: 9\n",
            "Introduce un número entero: 1\n",
            "Introduce un número entero: 13\n",
            "Introduce un número entero: 20\n",
            "Introduce un número entero: 4\n",
            "Introduce un número entero: 11\n",
            "Introduce un número entero: 0\n",
            "\n",
            "El diccionario es el siguiente\n",
            "{'Pares': 4, 'Impares': 5}\n"
          ]
        }
      ],
      "source": [
        "#Ejercicio 5\n",
        "dicc = {}\n",
        "dicc2 = {}\n",
        "sum_1 = 0\n",
        "sum_2 = 0\n",
        "dicc.setdefault(\"Pares\", sum_1)\n",
        "dicc.setdefault(\"Impares\", sum_2)\n",
        "num = int(input(\"Introduce un número entero: \"))\n",
        "while num != 0:\n",
        "    if (num % 2 == 0):\n",
        "        sum_1 += 1\n",
        "        dicc.pop(\"Pares\")\n",
        "        dicc.setdefault(\"Pares\", sum_1)\n",
        "    else:\n",
        "        sum_2 += 1\n",
        "        dicc.pop(\"Impares\")\n",
        "        dicc.setdefault(\"Impares\", sum_2)\n",
        "    num = int(input(\"Introduce un número entero: \"))\n",
        "print(\"\\nEl diccionario es el siguiente\")\n",
        "print(dicc)"
      ]
    },
    {
      "cell_type": "code",
      "execution_count": null,
      "metadata": {
        "colab": {
          "base_uri": "https://localhost:8080/"
        },
        "id": "VqPuf_3kBStC",
        "outputId": "96d7263f-029c-4213-87e4-32083a473ca7"
      },
      "outputs": [
        {
          "name": "stdout",
          "output_type": "stream",
          "text": [
            "Ingresa el nombre del alumno: \n",
            "Laura\n",
            "Ingresa las notas: 10\n",
            "Ingresa las notas: 9\n",
            "Ingresa las notas: 8\n",
            "Ingresa las notas: 0\n",
            "Ingresa el nombre del alumno: \n",
            "Josue\n",
            "Ingresa las notas: 10\n",
            "Ingresa las notas: 7\n",
            "Ingresa las notas: 7\n",
            "Ingresa las notas: 8\n",
            "Ingresa las notas: 0\n",
            "Ingresa el nombre del alumno: \n",
            "Mary\n",
            "Ingresa las notas: 9\n",
            "Ingresa las notas: 8\n",
            "Ingresa las notas: 0\n",
            "Ingresa el nombre del alumno: \n",
            "\n",
            "Laura : 9.0\n",
            "Josue : 8.0\n",
            "Mary : 8.5\n"
          ]
        }
      ],
      "source": [
        "#Ejercicio 6\n",
        "dicc = {}\n",
        "notas = []\n",
        "sum = 0\n",
        "name = str(input(\"Ingresa el nombre del alumno: \\n\"))\n",
        "while name != \"\":\n",
        "    nota = float(input(\"Ingresa las notas: \"))\n",
        "    while nota != 0:\n",
        "        notas.append(nota)\n",
        "        nota = float(input(\"Ingresa las notas: \"))\n",
        "    dicc.setdefault(name, notas)\n",
        "    notas = []\n",
        "    name = str(input(\"Ingresa el nombre del alumno: \\n\"))\n",
        "for key in dicc:\n",
        "    for i in range(len(dicc[key])):\n",
        "        sum += dicc[key][i]\n",
        "    print(key,\":\", sum/len(dicc[key]))\n",
        "    sum = 0"
      ]
    },
    {
      "cell_type": "code",
      "execution_count": null,
      "metadata": {
        "colab": {
          "base_uri": "https://localhost:8080/"
        },
        "id": "suNQnbDrMaEP",
        "outputId": "19620681-1365-406b-e62c-89836da36ac4"
      },
      "outputs": [
        {
          "name": "stdout",
          "output_type": "stream",
          "text": [
            "Introduce un número entero: 5\n",
            "{1: '*', 2: '**', 3: '***', 4: '****', 5: '*****'}\n"
          ]
        }
      ],
      "source": [
        "#Ejercicio 7\n",
        "dicc = {}\n",
        "num = int(input(\"Introduce un número entero: \"))\n",
        "for i in range(1, num+1):\n",
        "    dicc.setdefault(i, \"*\"*i)\n",
        "print(dicc)"
      ]
    },
    {
      "cell_type": "code",
      "execution_count": null,
      "metadata": {
        "colab": {
          "base_uri": "https://localhost:8080/"
        },
        "id": "2oS9VvxcVYQP",
        "outputId": "201d8987-c024-4809-9905-26d26fc2f3af"
      },
      "outputs": [
        {
          "name": "stdout",
          "output_type": "stream",
          "text": [
            "Ingresa el número de palabras a introducir: 4\n",
            "Introduce una palabra: hola\n",
            "Introduce una palabra: adios\n",
            "Introduce una palabra: estadio\n",
            "Introduce una palabra: serpiente\n",
            "{'hola': 4, 'adios': 5, 'estadio': 7, 'serpiente': 9}\n"
          ]
        }
      ],
      "source": [
        "#Ejercicio 8\n",
        "dicc = {}\n",
        "num = int(input(\"Ingresa el número de palabras a introducir: \"))\n",
        "for i in range(num):\n",
        "    word = str(input(\"Introduce una palabra: \"))\n",
        "    letras = len(word)\n",
        "    dicc.setdefault(word, letras)\n",
        "print(dicc)"
      ]
    },
    {
      "cell_type": "code",
      "execution_count": null,
      "metadata": {
        "colab": {
          "base_uri": "https://localhost:8080/"
        },
        "id": "BHiBlAv3ZFSs",
        "outputId": "0e22e537-68e9-410a-e0b8-411dccd90eae"
      },
      "outputs": [
        {
          "name": "stdout",
          "output_type": "stream",
          "text": [
            "Ingresa el número de palabras a introducir: 5\n",
            "Introduce una palabra: ejercicio\n",
            "Introduce una palabra: lapiz\n",
            "Introduce una palabra: oro\n",
            "Introduce una palabra: computadora\n",
            "Introduce una palabra: camisa\n",
            "{'ejercicio': 5, 'lapiz': 2, 'oro': 2, 'computadora': 5, 'camisa': 3}\n"
          ]
        }
      ],
      "source": [
        "#Ejercicio 9\n",
        "dicc = {}\n",
        "vocal = 0\n",
        "num = int(input(\"Ingresa el número de palabras a introducir: \"))\n",
        "for i in range(num):\n",
        "    word = str(input(\"Introduce una palabra: \"))\n",
        "    for let in word:\n",
        "        if (let == \"a\") or (let == \"e\") or (let == \"i\") or (let == \"o\") or (let == \"u\"):\n",
        "            vocal += 1\n",
        "    dicc.setdefault(word, vocal)\n",
        "    vocal = 0\n",
        "print(dicc)"
      ]
    },
    {
      "cell_type": "code",
      "execution_count": null,
      "metadata": {
        "colab": {
          "base_uri": "https://localhost:8080/"
        },
        "id": "lnQ9V1hObc8Q",
        "outputId": "cda68dbe-b544-4a07-c67c-ec5c1cf364c9"
      },
      "outputs": [
        {
          "name": "stdout",
          "output_type": "stream",
          "text": [
            "{'Filas': 4, 'Columnas': 3, 'Fila 1': [1, 2, 3], 'Fila 2': [4, 5, 6], 'Fila 3': [7, 8, 9], 'Fila 4': [10, 11, 12]}\n"
          ]
        }
      ],
      "source": [
        "#Ejercicio 10\n",
        "import numpy as np\n",
        "dicc = {}\n",
        "sum_1 = 0\n",
        "sum_2 = 0\n",
        "M = [[1,2,3], [4,5,6], [7,8,9], [10,11,12]]\n",
        "\n",
        "for row in M:\n",
        "    sum_1 += 1\n",
        "\n",
        "for element in row:\n",
        "        sum_2 += 1\n",
        "\n",
        "dicc.setdefault(\"Filas\", sum_1)\n",
        "dicc.setdefault(\"Columnas\", sum_2)\n",
        "\n",
        "for i in range(sum_1):\n",
        "    num = i+1\n",
        "    num_f = str(num)\n",
        "    fila = \"Fila \" + num_f\n",
        "    dicc.setdefault(fila, M[i])\n",
        "\n",
        "print(dicc)"
      ]
    },
    {
      "cell_type": "code",
      "execution_count": null,
      "metadata": {
        "id": "jtgN3ZruQy1m"
      },
      "outputs": [],
      "source": []
    }
  ],
  "metadata": {
    "colab": {
      "collapsed_sections": [],
      "name": "Tareaseccion9.ipynb",
      "provenance": []
    },
    "kernelspec": {
      "display_name": "Python 3.9.7",
      "language": "python",
      "name": "python3"
    },
    "language_info": {
      "name": "python",
      "version": "3.9.7"
    },
    "vscode": {
      "interpreter": {
        "hash": "bb002f112dab0577a3253dd9985ab4081297b80c039850d3b9f960ab208255bd"
      }
    }
  },
  "nbformat": 4,
  "nbformat_minor": 0
}

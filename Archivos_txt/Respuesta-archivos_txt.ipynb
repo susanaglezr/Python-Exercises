{
 "cells": [
  {
   "cell_type": "code",
   "execution_count": 35,
   "metadata": {},
   "outputs": [],
   "source": [
    "import csv"
   ]
  },
  {
   "cell_type": "code",
   "execution_count": 59,
   "metadata": {},
   "outputs": [
    {
     "name": "stdout",
     "output_type": "stream",
     "text": [
      "Ingresa tu nombre: \n",
      "Ingresa tu apellido: \n",
      "Ingresa tu edad: \n",
      "Ingresa tu color favorito: \n"
     ]
    }
   ],
   "source": [
    "# Ejercicio 1\n",
    "dicc = {}\n",
    "print(\"Ingresa tu nombre: \")\n",
    "dicc[\"name\"] = str(input())\n",
    "print(\"Ingresa tu apellido: \")\n",
    "dicc[\"surname\"] = str(input())\n",
    "print(\"Ingresa tu edad: \")\n",
    "dicc[\"age\"] = str(input())\n",
    "print(\"Ingresa tu color favorito: \")\n",
    "dicc[\"color\"] = str(input())"
   ]
  },
  {
   "cell_type": "code",
   "execution_count": 144,
   "metadata": {},
   "outputs": [],
   "source": [
    "with open(r\"C:\\Users\\sg804\\Desktop\\Python-Exercises\\Archivos_txt\\dict1.txt\", mode = \"w\") as f:\n",
    "    for row in dicc:\n",
    "        f.write(dicc.get(row))\n",
    "        f.write('\\n')"
   ]
  },
  {
   "cell_type": "code",
   "execution_count": 145,
   "metadata": {},
   "outputs": [
    {
     "name": "stdout",
     "output_type": "stream",
     "text": [
      "Susana\n",
      "Gonzalez\n",
      "21\n",
      "morado\n",
      "\n"
     ]
    }
   ],
   "source": [
    "# Ejercicio 2\n",
    "with open(r\"C:\\Users\\sg804\\Desktop\\Python-Exercises\\Archivos_txt\\dict1.txt\") as f:\n",
    "    print(f.read())"
   ]
  },
  {
   "cell_type": "code",
   "execution_count": 76,
   "metadata": {},
   "outputs": [],
   "source": [
    "#Ejercicio 3\n",
    "f = open(r\"C:\\Users\\sg804\\Desktop\\Python-Exercises\\Archivos_txt\\ej3.txt\", mode=\"x\")\n",
    "f.close()"
   ]
  },
  {
   "cell_type": "code",
   "execution_count": 77,
   "metadata": {},
   "outputs": [],
   "source": [
    "#Ejercicio 4\n",
    "import os\n",
    "path = \"C:\\\\Users\\\\sg804\\\\Desktop\\\\Python-Exercises\\\\Archivos_txt\\\\ej3.txt\"\n",
    "\n",
    "if os.path.exists(path):\n",
    "  os.remove(path)\n",
    "else:\n",
    "  print(\"El archivo que se quiere eliminar no existe\")"
   ]
  },
  {
   "cell_type": "code",
   "execution_count": 79,
   "metadata": {},
   "outputs": [],
   "source": [
    "# Ejercicio 5\n",
    "f = open(r'C:\\Users\\sg804\\Desktop\\Python-Exercises\\Archivos_txt\\ej5.txt', mode=\"x\")\n",
    "f.close()"
   ]
  },
  {
   "cell_type": "code",
   "execution_count": 80,
   "metadata": {},
   "outputs": [],
   "source": [
    "with open(r'C:\\Users\\sg804\\Desktop\\Python-Exercises\\Archivos_txt\\ej5.txt', mode=\"w\") as f:\n",
    "    f.write(\"x,y,Color,Shape \\n\")\n",
    "    f.write(\"1,1,#6fb7ff,< \\n\")\n",
    "    f.write(\"-1,1,#ffa66f,v \\n\")\n",
    "    f.write(\"-1,-1,#ffee6f,> \\n\")\n",
    "    f.write(\"1,-1,#db6fff,^ \\n\")"
   ]
  },
  {
   "cell_type": "code",
   "execution_count": 131,
   "metadata": {},
   "outputs": [],
   "source": [
    "# Ejercicio 6\n",
    "data = []\n",
    "with open(r'C:\\Users\\sg804\\Desktop\\Python-Exercises\\Archivos_txt\\ej5.txt', \"r\") as f:\n",
    "    reader = csv.reader(f)\n",
    "    for row in reader:\n",
    "        data.append(row)"
   ]
  },
  {
   "cell_type": "code",
   "execution_count": 132,
   "metadata": {},
   "outputs": [
    {
     "data": {
      "text/plain": [
       "[['x', 'y', 'Color', 'Shape '],\n",
       " ['1', '1', '#6fb7ff', '< '],\n",
       " ['-1', '1', '#ffa66f', 'v '],\n",
       " ['-1', '-1', '#ffee6f', '> '],\n",
       " ['1', '-1', '#db6fff', '^ ']]"
      ]
     },
     "execution_count": 132,
     "metadata": {},
     "output_type": "execute_result"
    }
   ],
   "source": [
    "data"
   ]
  },
  {
   "cell_type": "code",
   "execution_count": 133,
   "metadata": {},
   "outputs": [],
   "source": [
    "# Ejercicio 7\n",
    "import pandas as pd\n",
    "df = pd.read_csv(r'C:\\Users\\sg804\\Desktop\\Python-Exercises\\Archivos_txt\\ej5.txt')"
   ]
  },
  {
   "cell_type": "code",
   "execution_count": 134,
   "metadata": {},
   "outputs": [
    {
     "data": {
      "text/html": [
       "<div>\n",
       "<style scoped>\n",
       "    .dataframe tbody tr th:only-of-type {\n",
       "        vertical-align: middle;\n",
       "    }\n",
       "\n",
       "    .dataframe tbody tr th {\n",
       "        vertical-align: top;\n",
       "    }\n",
       "\n",
       "    .dataframe thead th {\n",
       "        text-align: right;\n",
       "    }\n",
       "</style>\n",
       "<table border=\"1\" class=\"dataframe\">\n",
       "  <thead>\n",
       "    <tr style=\"text-align: right;\">\n",
       "      <th></th>\n",
       "      <th>x</th>\n",
       "      <th>y</th>\n",
       "      <th>Color</th>\n",
       "      <th>Shape</th>\n",
       "    </tr>\n",
       "  </thead>\n",
       "  <tbody>\n",
       "    <tr>\n",
       "      <th>0</th>\n",
       "      <td>1</td>\n",
       "      <td>1</td>\n",
       "      <td>#6fb7ff</td>\n",
       "      <td>&lt;</td>\n",
       "    </tr>\n",
       "    <tr>\n",
       "      <th>1</th>\n",
       "      <td>-1</td>\n",
       "      <td>1</td>\n",
       "      <td>#ffa66f</td>\n",
       "      <td>v</td>\n",
       "    </tr>\n",
       "    <tr>\n",
       "      <th>2</th>\n",
       "      <td>-1</td>\n",
       "      <td>-1</td>\n",
       "      <td>#ffee6f</td>\n",
       "      <td>&gt;</td>\n",
       "    </tr>\n",
       "    <tr>\n",
       "      <th>3</th>\n",
       "      <td>1</td>\n",
       "      <td>-1</td>\n",
       "      <td>#db6fff</td>\n",
       "      <td>^</td>\n",
       "    </tr>\n",
       "  </tbody>\n",
       "</table>\n",
       "</div>"
      ],
      "text/plain": [
       "   x  y    Color Shape \n",
       "0  1  1  #6fb7ff     < \n",
       "1 -1  1  #ffa66f     v \n",
       "2 -1 -1  #ffee6f     > \n",
       "3  1 -1  #db6fff     ^ "
      ]
     },
     "execution_count": 134,
     "metadata": {},
     "output_type": "execute_result"
    }
   ],
   "source": [
    "df"
   ]
  },
  {
   "cell_type": "code",
   "execution_count": 87,
   "metadata": {},
   "outputs": [],
   "source": [
    "import seaborn as sns\n",
    "import matplotlib.pyplot as plt"
   ]
  },
  {
   "cell_type": "code",
   "execution_count": 105,
   "metadata": {},
   "outputs": [
    {
     "data": {
      "image/png": "[encoded data removed]",
      "text/plain": [
       "<Figure size 360x360 with 1 Axes>"
      ]
     },
     "metadata": {
      "needs_background": "light"
     },
     "output_type": "display_data"
    }
   ],
   "source": [
    "# Ejercicio 8\n",
    "plt.figure(figsize = (5,5))\n",
    "sns.scatterplot(data= df, x ='x', y='y', s=500)\n",
    "plt.title('Puntos')\n",
    "plt.xlabel('')\n",
    "plt.ylabel('')\n",
    "plt.show()"
   ]
  },
  {
   "cell_type": "code",
   "execution_count": 126,
   "metadata": {},
   "outputs": [],
   "source": [
    "# Ejercicio 9\n",
    "colors = list(df['Color'])\n",
    "shape=[\"<\",\"v\",\">\",\"^\"]"
   ]
  },
  {
   "cell_type": "code",
   "execution_count": 129,
   "metadata": {},
   "outputs": [
    {
     "data": {
      "image/png": "[encoded data removed]",
      "text/plain": [
       "<Figure size 360x360 with 1 Axes>"
      ]
     },
     "metadata": {
      "needs_background": "light"
     },
     "output_type": "display_data"
    }
   ],
   "source": [
    "plt.figure(figsize = (5,5))\n",
    "sns.scatterplot(data= df, x ='x', y='y', s=500, c = colors, style=shape)\n",
    "plt.title('Puntos')\n",
    "plt.xlabel('')\n",
    "plt.ylabel('')\n",
    "plt.show()"
   ]
  },
  {
   "cell_type": "code",
   "execution_count": 135,
   "metadata": {},
   "outputs": [
    {
     "data": {
      "text/plain": [
       "[['x', 'y', 'Color', 'Shape '],\n",
       " ['1', '1', '#6fb7ff', '< '],\n",
       " ['-1', '1', '#ffa66f', 'v '],\n",
       " ['-1', '-1', '#ffee6f', '> '],\n",
       " ['1', '-1', '#db6fff', '^ ']]"
      ]
     },
     "execution_count": 135,
     "metadata": {},
     "output_type": "execute_result"
    }
   ],
   "source": [
    "# Ejercicio 10\n",
    "data"
   ]
  },
  {
   "cell_type": "code",
   "execution_count": 140,
   "metadata": {},
   "outputs": [],
   "source": [
    "with open(r'C:\\Users\\sg804\\Desktop\\Python-Exercises\\Archivos_txt\\ej10.csv','w', newline='') as f:\n",
    "    writer= csv.writer(f)\n",
    "    writer.writerows(data)"
   ]
  }
 ],
 "metadata": {
  "kernelspec": {
   "display_name": "Python 3.10.5 64-bit",
   "language": "python",
   "name": "python3"
  },
  "language_info": {
   "codemirror_mode": {
    "name": "ipython",
    "version": 3
   },
   "file_extension": ".py",
   "mimetype": "text/x-python",
   "name": "python",
   "nbconvert_exporter": "python",
   "pygments_lexer": "ipython3",
   "version": "3.10.5"
  },
  "orig_nbformat": 4,
  "vscode": {
   "interpreter": {
    "hash": "742d4daa47b8a373f28c40cea1cb99deeb66111110cf50625028c85b8c3857f7"
   }
  }
 },
 "nbformat": 4,
 "nbformat_minor": 2
}
